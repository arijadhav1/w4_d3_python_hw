{
 "cells": [
  {
   "cell_type": "markdown",
   "metadata": {},
   "source": [
    "# Time/Space Complexity - Intro to Data Structures (User Defined)\n",
    "\n",
    "### Topics to discuss today:\n",
    "\n",
    "<ul>\n",
    "    <li>Time and Space Complexity - What is it/How do we measure it</li>\n",
    "    <li>Asymptotic Analysis</li>\n",
    "    <li><strong>Data Structures</strong></li>\n",
    "    <li>Some of the popular sorting algorithms</li>\n",
    "</ul>\n",
    "\n",
    "### Data Structures to discuss:\n",
    "- Arrays\n",
    "- Stacks\n",
    "- Queues\n",
    "- Linked Lists\n",
    "    - Singly Linked Lists\n",
    "    - Traversing A Linked List\n",
    "    - Finding a node in a linked list\n",
    "    - Adding to a linked list\n"
   ]
  },
  {
   "cell_type": "markdown",
   "metadata": {},
   "source": [
    "## Time and Space Complexity\n",
    "\n",
    "#### What is it?\n",
    "\n",
    "Time and space complexity is the measure of how much time a given action(function) will take to solve a problem. In the same fashion, we determine how much a given data structure will need in terms of memory allocation. A problem can have multiple solutions and finding the optimal solution for the problem needs to be analyzed in time and space.\n",
    "\n",
    "#### How do we measure Time and Space Complexity?\n",
    "\n",
    "In order to measure time and space complexity we use Asymptotic analysis. The reason for this is because we need a way to measure different algorithms (functions) based on the size of their inputs in a mathmatical way. For example, we could have a function that is computed as f(n) and another that is g(n^2). All things around the function staying constant, the only thing that changes is the size of the input. Below is the chart that shows the different Asymptotic analysis formats. "
   ]
  },
  {
   "cell_type": "markdown",
   "metadata": {},
   "source": [
    "<table style=\"text-align:center;\" class=\"table table-bordered\">\n",
    "<tbody><tr>\n",
    "<td>constant</td>\n",
    "<td>−</td>\n",
    "<td>Ο(1)</td>\n",
    "</tr>\n",
    "<tr>\n",
    "<td>logarithmic</td>\n",
    "<td>−</td>\n",
    "<td>Ο(log n)</td>\n",
    "</tr>\n",
    "<tr>\n",
    "<td>linear</td>\n",
    "<td>−</td>\n",
    "<td>Ο(n)</td>\n",
    "</tr>\n",
    "<tr>\n",
    "<td>Linear Logarithmic</td>\n",
    "<td>−</td>\n",
    "<td>Ο(n log n)</td>\n",
    "</tr>\n",
    "<tr>\n",
    "<td>quadratic</td>\n",
    "<td>−</td>\n",
    "<td>Ο(n<sup>2</sup>)</td>\n",
    "</tr>\n",
    "<tr>\n",
    "<td>cubic</td>\n",
    "<td>−</td>\n",
    "<td>Ο(n<sup>3</sup>)</td>\n",
    "</tr>\n",
    "<tr>\n",
    "<td>polynomial</td>\n",
    "<td>−</td>\n",
    "<td>n<sup>Ο(1)</sup></td>\n",
    "</tr>\n",
    "<tr>\n",
    "<td>exponential</td>\n",
    "<td>−</td>\n",
    "<td>2<sup>Ο(n)</sup></td>\n",
    "</tr>\n",
    "</tbody></table>"
   ]
  },
  {
   "cell_type": "code",
   "execution_count": null,
   "metadata": {},
   "outputs": [],
   "source": [
    "#constant time 0(1)\n",
    "def add_nums(num1, num2):\n",
    "    return num1 + num2\n",
    "\n",
    "#logarithmic O(log n)\n",
    "#binary search\n",
    "#breaking our list down into halves to search for an index\n",
    "#we're never traversing the entirety of the list\n",
    "def binary_search(array, target):\n",
    "    left = 0\n",
    "    right = len(array) -1\n",
    "    \n",
    "    while left <= right:\n",
    "        middle = (left + right) // 2\n",
    "        match = array[middle]\n",
    "        if target == match:\n",
    "            return f\"The index is {middle}\"\n",
    "        elif target < match:\n",
    "            right = middle -1\n",
    "        else:\n",
    "            left = middle + 1\n",
    "    \n",
    "    return -1\n",
    "\n",
    "#linear O(n)\n",
    "#time increases with the number of inputs\n",
    "arr = [1, 2, 3, 4, 5]\n",
    "def print_nums(array):\n",
    "    for num in array:\n",
    "        print(num)\n",
    "#membership checks in a list\n",
    "#looping through a string\n",
    "#.count()\n",
    "\n",
    "#linear logarithmic O(n log n)\n",
    "#merge sort\n",
    "#.sort()\n",
    "#sorted()\n",
    "\n",
    "#quadratic O(n^2)\n",
    "#any nested linear equation\n",
    "#2 loops nested inside of each other\n",
    "def quads_bb(arr):\n",
    "    for num in arr:\n",
    "        for num2 in arr:\n",
    "            print(num, num2)\n",
    "\n",
    "lucky = [1, 2, 2, 3, 3, 3]\n",
    "def lucky_nums(arr):\n",
    "    lucky_numbers = []\n",
    "    for num in arr:\n",
    "        if num == arr.count(num):\n",
    "            lucky_numbers.append(num)\n",
    "    print(lucky_numbers)\n",
    "    \n",
    "    if lucky_numbers == []:\n",
    "        return -1\n",
    "    else:\n",
    "        return max(lucky_numbers)\n",
    "print(lucky_nums(lucky))\n",
    "\n",
    "#cubic O(n^3)\n",
    "#any triple nested linear operations\n",
    "nums1 = [1, 2, 3, 4, 5]\n",
    "nums2 = [1, 2, 3, 4, 5]\n",
    "nums3 = [1, 2, 3, 4, 5]\n",
    "def print_nums3(arr1, arr2, arr3):\n",
    "    for num1 in arr1:\n",
    "        for num2 in arr2:\n",
    "            for num3 in arr3:\n",
    "                print(num1, num2, num3)\n",
    "print_nums3(nums1, nums2, nums3)"
   ]
  },
  {
   "cell_type": "markdown",
   "metadata": {},
   "source": [
    "## Arrays"
   ]
  },
  {
   "cell_type": "markdown",
   "metadata": {},
   "source": [
    "In python we benefit from the dynamic array which means the block of memory will expand as needed for the given input to the array. In traditional arrays (depending on the type of operating system) we will usually store our inputs in 4 or 8 consecutive blocks of memory. Below is a diagram of how that looks under the hood:\n",
    "\n",
    "<img src=\"http://www.mathcs.emory.edu/~cheung/Courses/170/Syllabus/09/FIGS/array02x.gif\" style=\"height:250px; width:350px;\">"
   ]
  },
  {
   "cell_type": "markdown",
   "metadata": {},
   "source": [
    "## Which in python looks like this:"
   ]
  },
  {
   "cell_type": "code",
   "execution_count": null,
   "metadata": {},
   "outputs": [],
   "source": []
  },
  {
   "cell_type": "markdown",
   "metadata": {},
   "source": [
    "### Let's take a look at some of the time and space analysis of arrays"
   ]
  },
  {
   "cell_type": "code",
   "execution_count": null,
   "metadata": {},
   "outputs": [],
   "source": [
    "#indexing an array\n",
    "#constant time and constant space\n",
    "#arr[i]\n",
    "my_list = [1, 2, 3, 4, 5]\n",
    "num = my_list[2]\n",
    "print(num)\n",
    "\n",
    "#searching through an array/membership check\n",
    "#linear time O(n) and constant space\n",
    "if 1 in my_list:\n",
    "    print(\"it's here\")\n",
    "    #quadratic example of a search in a for loop\n",
    "my_list2 = [5, 6, 7, 8, 9]\n",
    "for num in my_list:\n",
    "    if num in my_list2:\n",
    "        print(\"It's in both\")\n",
    "\n",
    "#copying an array\n",
    "#linear time O(n)\n",
    "#linear space O(n)\n",
    "my_list_copy = my_list[:]\n",
    "print(my_list_copy)\n",
    "\n",
    "empty_list = []\n",
    "for num in my_list:\n",
    "    empty_list.append(num)\n",
    "print(empty_list)\n",
    "\n",
    "#setting an index\n",
    "#constant time and constant space\n",
    "num = 20\n",
    "my_list[3] = num\n",
    "\n",
    "print(my_list)\n"
   ]
  },
  {
   "cell_type": "markdown",
   "metadata": {},
   "source": [
    "## Stacks and Queues\n",
    "\n",
    "** Stacks ** as the name suggests is a data structure that allows for data to follow the Last In First Out priciple(LIFO). Think of a stack of pancakes for example. To get the first pancake you would  start with the top and go down.\n",
    "\n",
    "##### Searching through a stack will be Linear Time O(n) - Constant Space O(1)\n",
    "##### Selecting the last item will be done in Constant Time O(1) - Constant Space O(1)\n",
    "##### Adding to the stack should take Constant Time O(1) - Constant Space O(1)\n",
    "\n",
    "** Queues ** are similar but in this case follow the First In First Out principle(FIFO). Think of this as a line in a black friday sale. The first person camped out for the big screen tv is the first to get it.\n",
    "\n",
    "##### Searching through a queue will be Linear Time O(n) - Constant Space O(1)\n",
    "##### Selecting the first item will be done in Constant Time O(1) - Constant Space O(1)\n",
    "##### Adding to the queue should take Constant Time O(1) - Constant Space O(1)"
   ]
  },
  {
   "cell_type": "code",
   "execution_count": 4,
   "metadata": {},
   "outputs": [
    {
     "name": "stdout",
     "output_type": "stream",
     "text": [
      "['pancake1', 'pancake2']\n",
      "['pancake1', 'pancake2', 'pancake3']\n",
      "['pancake1', 'pancake2', 'pancake3', 'pancake4']\n",
      "['pancake1', 'pancake2', 'pancake3']\n",
      "['pancake1', 'pancake2']\n"
     ]
    }
   ],
   "source": [
    "from collections import deque\n",
    "#python list version of stack\n",
    "stack = ['pancake1']\n",
    "stack.append('pancake2')\n",
    "print(stack)\n",
    "stack.append('pancake3')\n",
    "print(stack)\n",
    "stack.append('pancake4')\n",
    "print(stack)\n",
    "\n",
    "stack.pop()\n",
    "print(stack)\n",
    "stack.pop()\n",
    "print(stack)"
   ]
  },
  {
   "cell_type": "code",
   "execution_count": 9,
   "metadata": {},
   "outputs": [
    {
     "name": "stdout",
     "output_type": "stream",
     "text": [
      "deque([])\n",
      "deque(['pancake1', 'pancake2'])\n",
      "deque(['pancake1', 'pancake2', 'pancake3'])\n",
      "deque(['pancake1', 'pancake2'])\n"
     ]
    }
   ],
   "source": [
    "stack = deque()\n",
    "print(stack)\n",
    "stack.append('pancake1')\n",
    "stack.append('pancake2')\n",
    "print(stack)\n",
    "stack.append('pancake3')\n",
    "print(stack)\n",
    "\n",
    "stack.pop()\n",
    "print(stack)"
   ]
  },
  {
   "cell_type": "code",
   "execution_count": 11,
   "metadata": {},
   "outputs": [
    {
     "name": "stdout",
     "output_type": "stream",
     "text": [
      "deque([])\n",
      "deque(['Frank'])\n",
      "deque(['Dave', 'Frank'])\n",
      "deque(['Lori', 'Dave', 'Frank'])\n",
      "deque(['Lori', 'Dave'])\n",
      "deque(['Lori'])\n"
     ]
    }
   ],
   "source": [
    "queue = deque()\n",
    "print(queue)\n",
    "#first shopper in, first shopper out\n",
    "queue.appendleft(\"Frank\")\n",
    "print(queue)\n",
    "queue.appendleft(\"Dave\")\n",
    "print(queue)\n",
    "queue.appendleft(\"Lori\")\n",
    "print(queue)\n",
    "\n",
    "queue.pop()\n",
    "print(queue)\n",
    "\n",
    "queue.pop()\n",
    "print(queue)\n",
    "\n",
    "#crappy bad time complexity python\n",
    "\n",
    "my_stack = []\n",
    "my_stack.insert(0, \"pancake1\")\n",
    "print(my_stack)\n",
    "my_stack.insert(0, \"pancake2\")\n",
    "print(my_stack)\n",
    "my_stack.insert(0, \"pancake3\")\n",
    "print(my_stack)"
   ]
  },
  {
   "cell_type": "markdown",
   "metadata": {},
   "source": [
    "# Sum of Parts Time Compelxity Exercise"
   ]
  },
  {
   "cell_type": "code",
   "execution_count": null,
   "metadata": {},
   "outputs": [],
   "source": [
    "#sum of parts\n",
    "https://www.codewars.com/kata/5ce399e0047a45001c853c2b"
   ]
  },
  {
   "cell_type": "code",
   "execution_count": null,
   "metadata": {},
   "outputs": [],
   "source": []
  },
  {
   "cell_type": "markdown",
   "metadata": {},
   "source": [
    "## Linked List (Data Structure)\n",
    "\n",
    "A linked list is created by using the node class. We create a Node object and create another class to use this node object. We pass the appropriate values thorugh the node object to point the to the next data elements.\n",
    "\n",
    "There are some advantages and disadvantages with this data structure. **Advantages** Linked Lists can save memory because they can be flexibile with memory management which saves memory. **Disadvantages** Finding or adding to the list requires traversing the entire list."
   ]
  },
  {
   "cell_type": "code",
   "execution_count": 12,
   "metadata": {},
   "outputs": [],
   "source": [
    "#2 components of the linked list\n",
    "#the node class and a node object\n",
    "\n",
    "#linked list class that lets us tie our node objects together\n",
    "\n",
    "class Node():\n",
    "    def __init__(self, value):\n",
    "        self.value = value\n",
    "        self.next = None\n",
    "        \n",
    "class LinkedList():\n",
    "    def __init__(self):\n",
    "        self.head = None\n",
    "        \n",
    "#push_on method place an item at the beginning of the list\n",
    "   \n",
    "    def push_on(self, new_value):\n",
    "        new_node = Node(new_value)\n",
    "        new_node.next = self.head\n",
    "        self.head = new_node\n",
    "        \n",
    "#insert_after which will insert a node after another node in the linked list\n",
    "\n",
    "    def insert_after(self, prev_node, new_value):\n",
    "        #check if previous node exists\n",
    "        if prev_node is None:\n",
    "            print(\"The given prev_node must not be empty\")\n",
    "            return\n",
    "        #if the prev_node is not empty\n",
    "        new_node = Node(new_value)\n",
    "        \n",
    "        #update the new node's next to be the previous node's next\n",
    "        new_node.next = prev_node.next\n",
    "        \n",
    "        #update prev_node next to be new_node\n",
    "        prev_node.next = new_node\n",
    "        \n",
    "\n",
    "#append add a new node to the end of the list\n",
    "\n",
    "    def append_(self, new_value):\n",
    "        #create new node object\n",
    "        new_node = Node(new_value)\n",
    "        \n",
    "        #check if the linked list is empty\n",
    "        #if it is make the new node the head of the linked list\n",
    "        if self.head is None:\n",
    "            self.head = new.node\n",
    "        \n",
    "        #if not empty, traverse the linked list and append to the end\n",
    "        last = self.head\n",
    "        \n",
    "        #change last variable to the new value and continuously check for an empty_next\n",
    "        while last.next:\n",
    "            last = last.next\n",
    "        \n",
    "        #change the current last node (tail) to point to the new node object\n",
    "        last.next = new_node\n",
    "\n",
    "#traverse move through the linked list\n",
    "\n",
    "    def traverse(self):\n",
    "        temp = self.head\n",
    "        #while temp is NOT NONE --> keep on truckin through the list until it is none\n",
    "        while temp:\n",
    "            print(temp.value)\n",
    "            temp = temp.next\n",
    "        print(\"End of your list\")\n",
    "    \n",
    "    \n",
    "\n",
    "\n"
   ]
  },
  {
   "cell_type": "code",
   "execution_count": 28,
   "metadata": {},
   "outputs": [
    {
     "name": "stdout",
     "output_type": "stream",
     "text": [
      "Monday\n",
      "Wednesday\n",
      "Monday\n",
      "Tuesday\n",
      "Wednesday\n",
      "End of your list\n",
      "Monday\n",
      "Tuesday\n",
      "Wednesday\n",
      "Thursday\n",
      "End of your list\n",
      "Sunday\n",
      "Monday\n",
      "Tuesday\n",
      "Wednesday\n",
      "Thursday\n",
      "End of your list\n"
     ]
    }
   ],
   "source": [
    "weekdays_list = LinkedList()\n",
    "weekdays_list.push_on(\"Monday\")\n",
    "print(weekdays_list.head.value)\n",
    "weekdays_list.append_(\"Wednesday\")\n",
    "print(weekdays_list.head.next.value)\n",
    "weekdays_list.insert_after(weekdays_list.head, \"Tuesday\")\n",
    "weekdays_list.traverse()\n",
    "weekdays_list.append_(\"Thursday\")\n",
    "weekdays_list.traverse()\n",
    "weekdays_list.push_on(\"Sunday\")\n",
    "weekdays_list.traverse()\n"
   ]
  }
 ],
 "metadata": {
  "kernelspec": {
   "display_name": "Python 3 (ipykernel)",
   "language": "python",
   "name": "python3"
  },
  "language_info": {
   "codemirror_mode": {
    "name": "ipython",
    "version": 3
   },
   "file_extension": ".py",
   "mimetype": "text/x-python",
   "name": "python",
   "nbconvert_exporter": "python",
   "pygments_lexer": "ipython3",
   "version": "3.10.10"
  }
 },
 "nbformat": 4,
 "nbformat_minor": 2
}
